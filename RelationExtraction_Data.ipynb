{
  "nbformat": 4,
  "nbformat_minor": 0,
  "metadata": {
    "colab": {
      "name": "RelationExtraction_Data.ipynb",
      "provenance": [],
      "collapsed_sections": []
    },
    "kernelspec": {
      "display_name": "Python 3",
      "name": "python3"
    }
  },
  "cells": [
    {
      "cell_type": "code",
      "metadata": {
        "colab": {
          "base_uri": "https://localhost:8080/"
        },
        "id": "29IMQJ6mJx_8",
        "outputId": "df5b1d86-77d6-4d99-c708-791582e7790b"
      },
      "source": [
        "!pip install sklearn\n",
        "!pip install quantulum3\n",
        "!pip install transformers==3.5.0\n",
        "!pip install nltk"
      ],
      "execution_count": null,
      "outputs": [
        {
          "output_type": "stream",
          "text": [
            "Requirement already satisfied: sklearn in /usr/local/lib/python3.6/dist-packages (0.0)\n",
            "Requirement already satisfied: scikit-learn in /usr/local/lib/python3.6/dist-packages (from sklearn) (0.22.2.post1)\n",
            "Requirement already satisfied: numpy>=1.11.0 in /usr/local/lib/python3.6/dist-packages (from scikit-learn->sklearn) (1.18.5)\n",
            "Requirement already satisfied: joblib>=0.11 in /usr/local/lib/python3.6/dist-packages (from scikit-learn->sklearn) (0.17.0)\n",
            "Requirement already satisfied: scipy>=0.17.0 in /usr/local/lib/python3.6/dist-packages (from scikit-learn->sklearn) (1.4.1)\n",
            "Requirement already satisfied: quantulum3 in /usr/local/lib/python3.6/dist-packages (0.7.6)\n",
            "Requirement already satisfied: inflect in /usr/local/lib/python3.6/dist-packages (from quantulum3) (2.1.0)\n",
            "Requirement already satisfied: num2words in /usr/local/lib/python3.6/dist-packages (from quantulum3) (0.5.10)\n",
            "Requirement already satisfied: docopt>=0.6.2 in /usr/local/lib/python3.6/dist-packages (from num2words->quantulum3) (0.6.2)\n",
            "Requirement already satisfied: transformers==3.5.0 in /usr/local/lib/python3.6/dist-packages (3.5.0)\n",
            "Requirement already satisfied: dataclasses; python_version < \"3.7\" in /usr/local/lib/python3.6/dist-packages (from transformers==3.5.0) (0.8)\n",
            "Requirement already satisfied: tokenizers==0.9.3 in /usr/local/lib/python3.6/dist-packages (from transformers==3.5.0) (0.9.3)\n",
            "Requirement already satisfied: regex!=2019.12.17 in /usr/local/lib/python3.6/dist-packages (from transformers==3.5.0) (2019.12.20)\n",
            "Requirement already satisfied: sentencepiece==0.1.91 in /usr/local/lib/python3.6/dist-packages (from transformers==3.5.0) (0.1.91)\n",
            "Requirement already satisfied: requests in /usr/local/lib/python3.6/dist-packages (from transformers==3.5.0) (2.23.0)\n",
            "Requirement already satisfied: protobuf in /usr/local/lib/python3.6/dist-packages (from transformers==3.5.0) (3.12.4)\n",
            "Requirement already satisfied: filelock in /usr/local/lib/python3.6/dist-packages (from transformers==3.5.0) (3.0.12)\n",
            "Requirement already satisfied: sacremoses in /usr/local/lib/python3.6/dist-packages (from transformers==3.5.0) (0.0.43)\n",
            "Requirement already satisfied: numpy in /usr/local/lib/python3.6/dist-packages (from transformers==3.5.0) (1.18.5)\n",
            "Requirement already satisfied: packaging in /usr/local/lib/python3.6/dist-packages (from transformers==3.5.0) (20.7)\n",
            "Requirement already satisfied: tqdm>=4.27 in /usr/local/lib/python3.6/dist-packages (from transformers==3.5.0) (4.41.1)\n",
            "Requirement already satisfied: urllib3!=1.25.0,!=1.25.1,<1.26,>=1.21.1 in /usr/local/lib/python3.6/dist-packages (from requests->transformers==3.5.0) (1.24.3)\n",
            "Requirement already satisfied: chardet<4,>=3.0.2 in /usr/local/lib/python3.6/dist-packages (from requests->transformers==3.5.0) (3.0.4)\n",
            "Requirement already satisfied: certifi>=2017.4.17 in /usr/local/lib/python3.6/dist-packages (from requests->transformers==3.5.0) (2020.12.5)\n",
            "Requirement already satisfied: idna<3,>=2.5 in /usr/local/lib/python3.6/dist-packages (from requests->transformers==3.5.0) (2.10)\n",
            "Requirement already satisfied: setuptools in /usr/local/lib/python3.6/dist-packages (from protobuf->transformers==3.5.0) (50.3.2)\n",
            "Requirement already satisfied: six>=1.9 in /usr/local/lib/python3.6/dist-packages (from protobuf->transformers==3.5.0) (1.15.0)\n",
            "Requirement already satisfied: click in /usr/local/lib/python3.6/dist-packages (from sacremoses->transformers==3.5.0) (7.1.2)\n",
            "Requirement already satisfied: joblib in /usr/local/lib/python3.6/dist-packages (from sacremoses->transformers==3.5.0) (0.17.0)\n",
            "Requirement already satisfied: pyparsing>=2.0.2 in /usr/local/lib/python3.6/dist-packages (from packaging->transformers==3.5.0) (2.4.7)\n",
            "Requirement already satisfied: nltk in /usr/local/lib/python3.6/dist-packages (3.2.5)\n",
            "Requirement already satisfied: six in /usr/local/lib/python3.6/dist-packages (from nltk) (1.15.0)\n"
          ],
          "name": "stdout"
        }
      ]
    },
    {
      "cell_type": "code",
      "metadata": {
        "colab": {
          "base_uri": "https://localhost:8080/"
        },
        "id": "XdoS4VF_KCjt",
        "outputId": "838b8e6d-df0d-46cc-9732-3e4d8c5bf065"
      },
      "source": [
        "import os\n",
        "import re\n",
        "import io\n",
        "import pandas as pd\n",
        "import ast \n",
        "import numpy as np\n",
        "import pandas as pd\n",
        "import torch\n",
        "from transformers import BertTokenizer, BertModel, BertForPreTraining\n",
        "import torch\n",
        "import torch.nn as nn\n",
        "from sklearn.model_selection import train_test_split\n",
        "\n",
        "from torch.nn.utils.rnn import pack_padded_sequence, pad_packed_sequence\n",
        "from torch.autograd import Variable\n",
        "from torchtext import vocab\n",
        "from torchtext import data    \n",
        "import torch.nn.functional as F\n",
        "\n",
        "from torch.utils.data import TensorDataset, DataLoader\n",
        "\n",
        "import nltk\n",
        "from sklearn.model_selection import train_test_split\n",
        "import re\n",
        "nltk.download('punkt')"
      ],
      "execution_count": null,
      "outputs": [
        {
          "output_type": "stream",
          "text": [
            "[nltk_data] Downloading package punkt to /root/nltk_data...\n",
            "[nltk_data]   Package punkt is already up-to-date!\n"
          ],
          "name": "stdout"
        },
        {
          "output_type": "execute_result",
          "data": {
            "text/plain": [
              "True"
            ]
          },
          "metadata": {
            "tags": []
          },
          "execution_count": 79
        }
      ]
    },
    {
      "cell_type": "code",
      "metadata": {
        "colab": {
          "base_uri": "https://localhost:8080/"
        },
        "id": "jvmrqUVjKEaC",
        "outputId": "41ff3b4e-8d0d-442e-bdd8-97c97377f667"
      },
      "source": [
        "from google.colab import drive\n",
        "drive.mount('/content/drive')"
      ],
      "execution_count": null,
      "outputs": [
        {
          "output_type": "stream",
          "text": [
            "Drive already mounted at /content/drive; to attempt to forcibly remount, call drive.mount(\"/content/drive\", force_remount=True).\n"
          ],
          "name": "stdout"
        }
      ]
    },
    {
      "cell_type": "code",
      "metadata": {
        "colab": {
          "base_uri": "https://localhost:8080/"
        },
        "id": "bJ6DbRslKI2g",
        "outputId": "e0cd6a97-8b7f-4efe-de52-8f2795cf7585"
      },
      "source": [
        "cd /content/drive/My Drive/MeasEval-main/data/train/train/tsv"
      ],
      "execution_count": null,
      "outputs": [
        {
          "output_type": "stream",
          "text": [
            "/content/drive/My Drive/MeasEval-main/data/train/train/tsv\n"
          ],
          "name": "stdout"
        }
      ]
    },
    {
      "cell_type": "code",
      "metadata": {
        "id": "bhIDhMIsKKqC"
      },
      "source": [
        "files=os.listdir()"
      ],
      "execution_count": null,
      "outputs": []
    },
    {
      "cell_type": "code",
      "metadata": {
        "colab": {
          "base_uri": "https://localhost:8080/"
        },
        "id": "_BFUKw6ZIqJG",
        "outputId": "d30759ef-ea83-407c-a2d5-b57e29d5ecca"
      },
      "source": [
        "cd /content/drive/My Drive/MeasEval-main/data/train/dev/tsv"
      ],
      "execution_count": null,
      "outputs": [
        {
          "output_type": "stream",
          "text": [
            "/content/drive/My Drive/MeasEval-main/data/train/dev/tsv\n"
          ],
          "name": "stdout"
        }
      ]
    },
    {
      "cell_type": "code",
      "metadata": {
        "id": "pnODoXJFJvT_"
      },
      "source": [
        "val=os.listdir()"
      ],
      "execution_count": null,
      "outputs": []
    },
    {
      "cell_type": "code",
      "metadata": {
        "colab": {
          "base_uri": "https://localhost:8080/"
        },
        "id": "yXpLFu_WKxPu",
        "outputId": "7a6b6a41-05c3-4398-9058-8584db0c3860"
      },
      "source": [
        "cd .."
      ],
      "execution_count": null,
      "outputs": [
        {
          "output_type": "stream",
          "text": [
            "/content/drive/My Drive/MeasEval-main/data/train/dev\n"
          ],
          "name": "stdout"
        }
      ]
    },
    {
      "cell_type": "code",
      "metadata": {
        "colab": {
          "base_uri": "https://localhost:8080/"
        },
        "id": "kQGgJsPtK2Un",
        "outputId": "27179e6f-0ae7-45f9-d31b-5c0fc1a07904"
      },
      "source": [
        "cd .."
      ],
      "execution_count": null,
      "outputs": [
        {
          "output_type": "stream",
          "text": [
            "/content/drive/My Drive/MeasEval-main/data/train\n"
          ],
          "name": "stdout"
        }
      ]
    },
    {
      "cell_type": "code",
      "metadata": {
        "id": "e_DmfwL7s5_l"
      },
      "source": [
        "tokeniz = BertTokenizer.from_pretrained('bert-base-uncased')\n",
        "mdl = BertModel.from_pretrained('bert-base-uncased', return_dict=True)"
      ],
      "execution_count": null,
      "outputs": []
    },
    {
      "cell_type": "code",
      "metadata": {
        "id": "thj8LpTCrZk7"
      },
      "source": [
        "def tokenize_and_preserve_labels(sentence, text_labels, tokenizer):\n",
        "\n",
        "    \"\"\"\n",
        "    Word piece tokenization makes it difficult to match word labels\n",
        "    back up with individual word pieces. This function tokenizes each\n",
        "    word one at a time so that it is easier to preserve the correct\n",
        "    label for each subword. It is, of course, a bit slower in processing\n",
        "    time, but it will help our model achieve higher accuracy.\n",
        "    \"\"\"\n",
        "    # print(len(sentence))\n",
        "    # print(len(text_labels))\n",
        "    tokenized_sentence = []\n",
        "    labels = []\n",
        "\n",
        "    for word, label in zip(sentence, text_labels):\n",
        "\n",
        "        # Tokenize the word and count # of subwords the word is broken into\n",
        "        tokenized_word = tokenizer.tokenize(word)\n",
        "        n_subwords = len(tokenized_word)\n",
        "\n",
        "        # Add the tokenized word to the final tokenized word list\n",
        "        tokenized_sentence.extend(tokenized_word)\n",
        "\n",
        "        # Add the same label to the new list of labels `n_subwords` times\n",
        "        labels.extend([label] * n_subwords)\n",
        "    # print(len(tokenized_sentence))\n",
        "    # print(len(labels))\n",
        "    return tokenized_sentence, labels"
      ],
      "execution_count": null,
      "outputs": []
    },
    {
      "cell_type": "code",
      "metadata": {
        "id": "6XjqT-yuizeO"
      },
      "source": [
        "tok2idx = {}\r\n",
        "tok2idx[\"Quantity\"] = 1\r\n",
        "tok2idx[\"MeasuredEntity\"] = 2\r\n",
        "tok2idx[\"MeasuredProperty\"] = 3\r\n",
        "tok2idx[\"Qualifier\"]=4"
      ],
      "execution_count": null,
      "outputs": []
    },
    {
      "cell_type": "code",
      "metadata": {
        "id": "f2m8xFt1spMc"
      },
      "source": [
        "def data_read(path_to_file,text_path,model,tokenizer):\n",
        "  y_train=[]\n",
        "  l=0\n",
        "  for i in path_to_file:\n",
        "   #for j in :\n",
        "     #i=path_to_file[j] \n",
        "    pathtxt=os.path.join(text_path,'text',i[:-3]+'txt')\n",
        "    \n",
        "    if (not os.path.isfile(pathtxt)):\n",
        "      continue \n",
        "    \n",
        "    with open(pathtxt, 'r') as f:\n",
        "      text=f.read()\n",
        "    pathtsv=os.path.join(text_path+'/tsv',i[:-3]+'tsv')\n",
        "    if(not(os.path.exists(pathtsv))):\n",
        "      continue\n",
        "    filetsv=pd.read_csv(pathtsv,sep = '\\t')\n",
        "    data=filetsv[['annotType','startOffset','endOffset','text','annotId']]\n",
        "    entity = data.to_numpy().tolist()\n",
        "    tags={}\n",
        "    ent=0\n",
        "    offset=0\n",
        "    sent_text = nltk.sent_tokenize(text)\n",
        "    para=[]\n",
        "    for j in sent_text:\n",
        "      row=[]\n",
        "      \n",
        "      \n",
        "      \n",
        "      ent_sen=[]\n",
        "      ret = [(m.group(0), m.start(), m.end() - 1) for m in re.finditer(r'\\S+', j)]\n",
        "      start=[]\n",
        "      \n",
        "      for word in ret:\n",
        "        types=[]\n",
        "        for ent_doc in entity:\n",
        "          if(offset+word[1]>=ent_doc[1] and offset+word[2]<=ent_doc[2]):\n",
        "            types.append(ent_doc[4])\n",
        "            tags[ent_doc[4]]=np.zeros(768)\n",
        "        ent_sen.append(types)     \n",
        "      \n",
        "      \n",
        "      sen,label=tokenize_and_preserve_labels(j.split(' '),ent_sen,tokenizer)\n",
        "      label.insert(0,[])\n",
        "      label.append([])\n",
        "\n",
        "      inputs = tokenizer(j, return_tensors=\"pt\")\n",
        "      outputs = model(**inputs)\n",
        "      \n",
        "      \n",
        "      \n",
        "      last_hidden_states = outputs.last_hidden_state\n",
        "      \n",
        "      for lbl in range(len(label)):\n",
        "        for lbl2 in range(len(label[lbl])):\n",
        "          if(label[lbl][lbl2] in tags):\n",
        "            tags[label[lbl][lbl2]]+=last_hidden_states[0][lbl].detach().numpy()\n",
        "          else:\n",
        "            tags[label[lbl][lbl2]]=last_hidden_states[0][lbl].detach().numpy()\n",
        "            \n",
        "            \n",
        "\n",
        "      offset+=(1+len(j))\n",
        "      \n",
        "      \n",
        "    entity=filetsv[['annotType','annotId','startOffset','endOffset','text','other']]\n",
        "    quant=entity[entity['annotType']!='Quantity']\n",
        "    sent_text = nltk.sent_tokenize(text)\n",
        "    quant=quant[['annotType','annotId','startOffset','endOffset','text','other']].to_numpy().tolist()\n",
        "    paragraph=[]\n",
        "    for qu in quant:\n",
        "      other=qu[5]\n",
        "      #print(qu)\n",
        "      \n",
        "      qu=qu[:-1]\n",
        "      relation=[]\n",
        "      if(not pd.isnull(other)):\n",
        "        dictio=ast.literal_eval(other) \n",
        "        if 'HasQuantity' in dictio:\n",
        "          id=dictio['HasQuantity']\n",
        "          relation.append(qu[1])\n",
        "          relation.append(id)\n",
        "          relation.append(tok2idx[qu[0]])\n",
        "          relation.append('HasQuantity')\n",
        "          relation.append(1)\n",
        "          \n",
        "          \n",
        "        if 'HasProperty' in dictio:\n",
        "          id=dictio['HasProperty']\n",
        "          relation.append(qu[1])\n",
        "          relation.append(id)\n",
        "          relation.append(tok2idx[qu[0]])\n",
        "          relation.append('HasProperty')\n",
        "          relation.append(3)\n",
        "          \n",
        "          \n",
        "        if 'Qualifies' in dictio:\n",
        "          id=dictio['Qualifies']          \n",
        "          relation.append(qu[1])\n",
        "          relation.append(id)\n",
        "          relation.append(tok2idx[qu[0]])\n",
        "          relation.append('Qualifies')\n",
        "          relation.append(1)\n",
        "          \n",
        "        \n",
        "        paragraph.append(relation)\n",
        "    \n",
        "    key=list(tags.keys())\n",
        "    \n",
        "    combinations=[] \n",
        "    for j in range(len(key)):\n",
        "      for k in range(j+1,len(key)):\n",
        "        combinations.append([key[j],key[k]])\n",
        "    \n",
        "    \n",
        "    features=[]\n",
        "    count=0\n",
        "    \n",
        "    for j in combinations:\n",
        "      for k in paragraph:\n",
        "        if((j[0]==k[0] and j[1]==k[1]) or (j[0]==k[1] and j[1]==k[0])):\n",
        "          features.append([tags[j[0]],tags[j[1]],k[2],k[3],k[4]])\n",
        "        elif(count<=5):\n",
        "          features.append([tags[j[0]],tags[j[1]],k[2],\"norelation\",k[4]])\n",
        "          count+=1\n",
        "    y_train.append(features)\n",
        "    \n",
        "    \n",
        "  return y_train\n",
        "  \n",
        "  \n",
        "    \n",
        "  \n",
        "  \n",
        "  \n",
        "  \n"
      ],
      "execution_count": null,
      "outputs": []
    },
    {
      "cell_type": "code",
      "metadata": {
        "id": "_8ixabipKbwi"
      },
      "source": [
        "y_train=data_read(files,'train',mdl,tokeniz)"
      ],
      "execution_count": null,
      "outputs": []
    },
    {
      "cell_type": "code",
      "metadata": {
        "id": "hXhEKN0qPU-n"
      },
      "source": [
        "sab = {}"
      ],
      "execution_count": null,
      "outputs": []
    },
    {
      "cell_type": "code",
      "metadata": {
        "colab": {
          "base_uri": "https://localhost:8080/"
        },
        "id": "ChYiHon3Sh-Y",
        "outputId": "6619e315-f9e3-4f21-fd98-79de94ff60d5"
      },
      "source": [
        "print(len(y_train))"
      ],
      "execution_count": null,
      "outputs": [
        {
          "output_type": "stream",
          "text": [
            "222\n"
          ],
          "name": "stdout"
        }
      ]
    },
    {
      "cell_type": "code",
      "metadata": {
        "id": "Y8xBEEhyPXH2"
      },
      "source": [
        "sab[\"sab\"] = np.zeros(4)"
      ],
      "execution_count": null,
      "outputs": []
    },
    {
      "cell_type": "code",
      "metadata": {
        "id": "BOaW3rlxO2Oy"
      },
      "source": [
        "y_val=data_read(val,'dev',mdl,tokeniz)"
      ],
      "execution_count": null,
      "outputs": []
    },
    {
      "cell_type": "code",
      "metadata": {
        "id": "EUOJ8f_RRcGR",
        "colab": {
          "base_uri": "https://localhost:8080/"
        },
        "outputId": "42476f7a-5d09-40cc-de60-b4bc6a87a79d"
      },
      "source": [
        "len(y_val)"
      ],
      "execution_count": null,
      "outputs": [
        {
          "output_type": "execute_result",
          "data": {
            "text/plain": [
              "28"
            ]
          },
          "metadata": {
            "tags": []
          },
          "execution_count": 172
        }
      ]
    },
    {
      "cell_type": "code",
      "metadata": {
        "id": "OXTPVk9hKXlG"
      },
      "source": [
        "X1=[]\n",
        "X2=[]\n",
        "X3=[]\n",
        "X4 = []\n",
        "relation=[]"
      ],
      "execution_count": null,
      "outputs": []
    },
    {
      "cell_type": "code",
      "metadata": {
        "id": "bxlTtHdoKhrT"
      },
      "source": [
        "for i in range(len(y_train)):\n",
        "  for j in range(len(y_train[i])):\n",
        "    if(len(y_train[i][j])==5):\n",
        "      X1.append(y_train[i][j][0])\n",
        "      X2.append(y_train[i][j][1])\n",
        "      X3.append(y_train[i][j][2])\n",
        "      relation.append(y_train[i][j][3])\n",
        "      X4.append(y_train[i][j][4])\n",
        "    \n",
        "    "
      ],
      "execution_count": null,
      "outputs": []
    },
    {
      "cell_type": "code",
      "metadata": {
        "id": "76AaE37_FZ8E"
      },
      "source": [
        "X1 = np.array(X1)\n",
        "X2 = np.array(X2)\n",
        "X3 = np.array(X3)\n",
        "X4 = np.array(X4)"
      ],
      "execution_count": null,
      "outputs": []
    },
    {
      "cell_type": "code",
      "metadata": {
        "colab": {
          "base_uri": "https://localhost:8080/"
        },
        "id": "kIBCuCZ-FfJG",
        "outputId": "39f58759-21cb-4713-dc58-dbd2198941c2"
      },
      "source": [
        ""
      ],
      "execution_count": null,
      "outputs": [
        {
          "output_type": "stream",
          "text": [
            "[1 1 2 ... 1 2 1]\n"
          ],
          "name": "stdout"
        }
      ]
    },
    {
      "cell_type": "code",
      "metadata": {
        "id": "cZCAuuCrA9tk",
        "colab": {
          "base_uri": "https://localhost:8080/"
        },
        "outputId": "5afd5a2d-e3be-4299-c47a-62223945c6b9"
      },
      "source": [
        "np.shape(X2)"
      ],
      "execution_count": null,
      "outputs": [
        {
          "output_type": "execute_result",
          "data": {
            "text/plain": [
              "(2760, 768)"
            ]
          },
          "metadata": {
            "tags": []
          },
          "execution_count": 176
        }
      ]
    },
    {
      "cell_type": "code",
      "metadata": {
        "id": "6-gvKBfUGE1T",
        "colab": {
          "base_uri": "https://localhost:8080/"
        },
        "outputId": "310b5c53-a6b4-46a2-b05b-76326b67150b"
      },
      "source": [
        "np.shape(X3)"
      ],
      "execution_count": null,
      "outputs": [
        {
          "output_type": "execute_result",
          "data": {
            "text/plain": [
              "(2760,)"
            ]
          },
          "metadata": {
            "tags": []
          },
          "execution_count": 107
        }
      ]
    },
    {
      "cell_type": "code",
      "metadata": {
        "id": "_BlUi1Xt2D6y"
      },
      "source": [
        "import numpy as np"
      ],
      "execution_count": null,
      "outputs": []
    },
    {
      "cell_type": "code",
      "metadata": {
        "id": "ENGipFzP6ef8"
      },
      "source": [
        "tok2idx = {}\n",
        "tok2idx[\"HasProperty\"] = 0\n",
        "tok2idx[\"HasQuantity\"] = 1\n",
        "tok2idx[\"Qualifies\"] = 2\n",
        "tok2idx[\"norelation\"]=3"
      ],
      "execution_count": null,
      "outputs": []
    },
    {
      "cell_type": "code",
      "metadata": {
        "id": "Ob0Z77Go6hHx"
      },
      "source": [
        "num = np.zeros((4,))\n",
        "y_train = np.zeros((len(relation),4))\n",
        "for i in range(len(relation)):\n",
        "  num[tok2idx[relation[i]]] +=1\n",
        "  for j in range(4):\n",
        "    if tok2idx[relation[i]] == j:\n",
        "      y_train[i][j] = 1\n",
        "    else:\n",
        "      y_train[i][j] = 0\n",
        "  "
      ],
      "execution_count": null,
      "outputs": []
    },
    {
      "cell_type": "code",
      "metadata": {
        "id": "v4A1iLf5NsHj"
      },
      "source": [
        "num = num/np.sum(num)"
      ],
      "execution_count": null,
      "outputs": []
    },
    {
      "cell_type": "code",
      "metadata": {
        "id": "HYM_AQx6N5VF"
      },
      "source": [
        "num = 1/num"
      ],
      "execution_count": null,
      "outputs": []
    },
    {
      "cell_type": "code",
      "metadata": {
        "colab": {
          "base_uri": "https://localhost:8080/"
        },
        "id": "8B6D0B4pNMvs",
        "outputId": "88f613ab-7098-4ec6-8f7e-9ec0b9f743d6"
      },
      "source": [
        "print(num[0])\n",
        "print(num[1])\n",
        "print(num[2])\n",
        "print(num[3])"
      ],
      "execution_count": null,
      "outputs": [
        {
          "output_type": "stream",
          "text": [
            "5.19774011299435\n",
            "3.4716981132075473\n",
            "11.21951219512195\n",
            "2.323232323232323\n"
          ],
          "name": "stdout"
        }
      ]
    },
    {
      "cell_type": "code",
      "metadata": {
        "colab": {
          "base_uri": "https://localhost:8080/"
        },
        "id": "GU4WXefc5vrX",
        "outputId": "104b3776-9f64-4ad3-f3f9-3c95644084d1"
      },
      "source": [
        "y_train"
      ],
      "execution_count": null,
      "outputs": [
        {
          "output_type": "execute_result",
          "data": {
            "text/plain": [
              "array([[0., 1., 0., 0.],\n",
              "       [0., 0., 0., 1.],\n",
              "       [0., 0., 0., 1.],\n",
              "       ...,\n",
              "       [0., 1., 0., 0.],\n",
              "       [1., 0., 0., 0.],\n",
              "       [0., 1., 0., 0.]])"
            ]
          },
          "metadata": {
            "tags": []
          },
          "execution_count": 27
        }
      ]
    },
    {
      "cell_type": "code",
      "metadata": {
        "colab": {
          "base_uri": "https://localhost:8080/"
        },
        "id": "wwbSTIpE8945",
        "outputId": "2ac08aeb-120c-40c5-de66-6889214722f1"
      },
      "source": [
        "np.shape(y_train)"
      ],
      "execution_count": null,
      "outputs": [
        {
          "output_type": "execute_result",
          "data": {
            "text/plain": [
              "(2760, 4)"
            ]
          },
          "metadata": {
            "tags": []
          },
          "execution_count": 184
        }
      ]
    },
    {
      "cell_type": "code",
      "metadata": {
        "id": "NENrPuJx8_GB"
      },
      "source": [
        "import tensorflow as tf\n",
        "from tensorflow import keras\n",
        "from tensorflow.keras import layers"
      ],
      "execution_count": null,
      "outputs": []
    },
    {
      "cell_type": "code",
      "metadata": {
        "id": "2mqKVZ5eAjfG"
      },
      "source": [
        "inputA = layers.Input(shape=(768,))\n",
        "inputB = layers.Input(shape=(768,))\n",
        "inputC = layers.Input(shape=(1,))\n",
        "inputD = layers.Input(shape = (1,))\n",
        "\n",
        "x = layers.Dense(128, activation=\"relu\")(inputA)\n",
        "x = layers.Dense(64, activation=\"relu\")(x)\n",
        "\n",
        "y = layers.Dense(128, activation=\"relu\")(inputB)\n",
        "y = layers.Dense(64, activation=\"relu\")(y)\n",
        "\n",
        "c = layers.Dense(1, activation=\"relu\")(inputC)\n",
        "\n",
        "d = layers.Dense(1, activation=\"relu\")(inputD)\n",
        "\n",
        "\n",
        "com = layers.concatenate([x, y, c, d])\n",
        "z = layers.Dense(32, activation=\"relu\")(com)\n",
        "z = layers.Dense(4,  activation='softmax')(z)\n",
        "model = keras.Model(inputs=[inputA, inputB, inputC, inputD], outputs=z)"
      ],
      "execution_count": null,
      "outputs": []
    },
    {
      "cell_type": "code",
      "metadata": {
        "id": "GlOVgcriDHeN",
        "colab": {
          "base_uri": "https://localhost:8080/"
        },
        "outputId": "98a3691f-4055-4164-876f-0a83c9bbb085"
      },
      "source": [
        "model.summary()"
      ],
      "execution_count": null,
      "outputs": [
        {
          "output_type": "stream",
          "text": [
            "Model: \"functional_3\"\n",
            "__________________________________________________________________________________________________\n",
            "Layer (type)                    Output Shape         Param #     Connected to                     \n",
            "==================================================================================================\n",
            "input_5 (InputLayer)            [(None, 768)]        0                                            \n",
            "__________________________________________________________________________________________________\n",
            "input_6 (InputLayer)            [(None, 768)]        0                                            \n",
            "__________________________________________________________________________________________________\n",
            "dense_8 (Dense)                 (None, 128)          98432       input_5[0][0]                    \n",
            "__________________________________________________________________________________________________\n",
            "dense_10 (Dense)                (None, 128)          98432       input_6[0][0]                    \n",
            "__________________________________________________________________________________________________\n",
            "input_7 (InputLayer)            [(None, 1)]          0                                            \n",
            "__________________________________________________________________________________________________\n",
            "input_8 (InputLayer)            [(None, 1)]          0                                            \n",
            "__________________________________________________________________________________________________\n",
            "dense_9 (Dense)                 (None, 64)           8256        dense_8[0][0]                    \n",
            "__________________________________________________________________________________________________\n",
            "dense_11 (Dense)                (None, 64)           8256        dense_10[0][0]                   \n",
            "__________________________________________________________________________________________________\n",
            "dense_12 (Dense)                (None, 1)            2           input_7[0][0]                    \n",
            "__________________________________________________________________________________________________\n",
            "dense_13 (Dense)                (None, 1)            2           input_8[0][0]                    \n",
            "__________________________________________________________________________________________________\n",
            "concatenate_1 (Concatenate)     (None, 130)          0           dense_9[0][0]                    \n",
            "                                                                 dense_11[0][0]                   \n",
            "                                                                 dense_12[0][0]                   \n",
            "                                                                 dense_13[0][0]                   \n",
            "__________________________________________________________________________________________________\n",
            "dense_14 (Dense)                (None, 32)           4192        concatenate_1[0][0]              \n",
            "__________________________________________________________________________________________________\n",
            "dense_15 (Dense)                (None, 4)            132         dense_14[0][0]                   \n",
            "==================================================================================================\n",
            "Total params: 217,704\n",
            "Trainable params: 217,704\n",
            "Non-trainable params: 0\n",
            "__________________________________________________________________________________________________\n"
          ],
          "name": "stdout"
        }
      ]
    },
    {
      "cell_type": "code",
      "metadata": {
        "id": "xBDIk5gcN_ov"
      },
      "source": [
        "from keras import backend as K\n",
        "def weighted_categorical_crossentropy(weights):\n",
        "\n",
        "    weights = K.variable(weights)\n",
        "        \n",
        "    def loss(y_true, y_pred):\n",
        "\n",
        "        y_pred /= K.sum(y_pred, axis=-1, keepdims=True)\n",
        "\n",
        "        y_pred = K.clip(y_pred, K.epsilon(), 1 - K.epsilon())\n",
        "\n",
        "        loss = y_true * K.log(y_pred) * weights\n",
        "        loss = -K.sum(loss, -1)\n",
        "        return loss\n",
        "    \n",
        "    return loss"
      ],
      "execution_count": null,
      "outputs": []
    },
    {
      "cell_type": "code",
      "metadata": {
        "id": "UOzUQzeZOOF2"
      },
      "source": [
        "fact = 3\n",
        "weights = [num[0]*fact,num[1]*fact,num[2]*fact,num[3]]"
      ],
      "execution_count": null,
      "outputs": []
    },
    {
      "cell_type": "code",
      "metadata": {
        "colab": {
          "base_uri": "https://localhost:8080/"
        },
        "id": "6HPjwp1MVYPS",
        "outputId": "629b0fac-0839-47ee-a510-cb4fdbc9c839"
      },
      "source": [
        "weights"
      ],
      "execution_count": null,
      "outputs": [
        {
          "output_type": "execute_result",
          "data": {
            "text/plain": [
              "[15.593220338983052, 10.415094339622641, 33.65853658536585, 2.323232323232323]"
            ]
          },
          "metadata": {
            "tags": []
          },
          "execution_count": 189
        }
      ]
    },
    {
      "cell_type": "code",
      "metadata": {
        "id": "N_1TuTKxDS80"
      },
      "source": [
        "model.compile(optimizer='adam',\n",
        "              loss= weighted_categorical_crossentropy(weights),\n",
        "              metrics=['accuracy'])"
      ],
      "execution_count": null,
      "outputs": []
    },
    {
      "cell_type": "code",
      "metadata": {
        "colab": {
          "base_uri": "https://localhost:8080/"
        },
        "id": "sRfY9rLaiHQg",
        "outputId": "1d8fd1c9-6d5f-4288-e987-f54dbf23ed22"
      },
      "source": [
        "precision = []\n",
        "recall = []\n",
        "F1 = []\n",
        "epoch = []\n",
        "step = 10\n",
        "for i in range(10):\n",
        "  model.fit(x = [X1,X2,X3,X4], y = y_train, epochs=step, batch_size=32)\n",
        "  p,r,f = pred()\n",
        "  precision.append(p)\n",
        "  recall.append(r)\n",
        "  F1.append(f)\n",
        "  epoch.append((i+1)*step)"
      ],
      "execution_count": null,
      "outputs": [
        {
          "output_type": "stream",
          "text": [
            "Epoch 1/10\n",
            "87/87 [==============================] - 0s 3ms/step - loss: 0.8749 - accuracy: 0.8793\n",
            "Epoch 2/10\n",
            "87/87 [==============================] - 0s 3ms/step - loss: 0.7545 - accuracy: 0.8942\n",
            "Epoch 3/10\n",
            "87/87 [==============================] - 0s 3ms/step - loss: 0.7331 - accuracy: 0.8935\n",
            "Epoch 4/10\n",
            "87/87 [==============================] - 0s 3ms/step - loss: 0.7331 - accuracy: 0.8909\n",
            "Epoch 5/10\n",
            "87/87 [==============================] - 0s 4ms/step - loss: 0.7209 - accuracy: 0.8844\n",
            "Epoch 6/10\n",
            "87/87 [==============================] - 0s 4ms/step - loss: 0.7102 - accuracy: 0.8909\n",
            "Epoch 7/10\n",
            "87/87 [==============================] - 0s 3ms/step - loss: 0.7229 - accuracy: 0.8924\n",
            "Epoch 8/10\n",
            "87/87 [==============================] - 0s 3ms/step - loss: 0.7122 - accuracy: 0.8949\n",
            "Epoch 9/10\n",
            "87/87 [==============================] - 0s 3ms/step - loss: 0.7175 - accuracy: 0.8884\n",
            "Epoch 10/10\n",
            "87/87 [==============================] - 0s 3ms/step - loss: 0.7185 - accuracy: 0.8942\n",
            "Epoch 1/10\n",
            "87/87 [==============================] - 0s 3ms/step - loss: 0.7245 - accuracy: 0.8891\n",
            "Epoch 2/10\n",
            "87/87 [==============================] - 0s 3ms/step - loss: 0.7039 - accuracy: 0.8960\n",
            "Epoch 3/10\n",
            "87/87 [==============================] - 0s 4ms/step - loss: 0.7163 - accuracy: 0.8924\n",
            "Epoch 4/10\n",
            "87/87 [==============================] - 0s 3ms/step - loss: 0.7894 - accuracy: 0.8906\n",
            "Epoch 5/10\n",
            "87/87 [==============================] - 0s 3ms/step - loss: 0.7298 - accuracy: 0.8924\n",
            "Epoch 6/10\n",
            "87/87 [==============================] - 0s 3ms/step - loss: 0.7657 - accuracy: 0.8920\n",
            "Epoch 7/10\n",
            "87/87 [==============================] - 0s 3ms/step - loss: 0.7229 - accuracy: 0.8964\n",
            "Epoch 8/10\n",
            "87/87 [==============================] - 0s 3ms/step - loss: 0.6980 - accuracy: 0.8873\n",
            "Epoch 9/10\n",
            "87/87 [==============================] - 0s 3ms/step - loss: 0.7025 - accuracy: 0.8884\n",
            "Epoch 10/10\n",
            "87/87 [==============================] - 0s 3ms/step - loss: 0.6961 - accuracy: 0.8884\n",
            "Epoch 1/10\n",
            "87/87 [==============================] - 0s 3ms/step - loss: 0.6927 - accuracy: 0.8946\n",
            "Epoch 2/10\n",
            "87/87 [==============================] - 0s 3ms/step - loss: 0.6869 - accuracy: 0.8899\n",
            "Epoch 3/10\n",
            "87/87 [==============================] - 0s 3ms/step - loss: 0.7349 - accuracy: 0.8960\n",
            "Epoch 4/10\n",
            "87/87 [==============================] - 0s 3ms/step - loss: 0.7599 - accuracy: 0.8899\n",
            "Epoch 5/10\n",
            "87/87 [==============================] - 0s 3ms/step - loss: 0.7237 - accuracy: 0.8938\n",
            "Epoch 6/10\n",
            "87/87 [==============================] - 0s 4ms/step - loss: 0.6862 - accuracy: 0.9007\n",
            "Epoch 7/10\n",
            "87/87 [==============================] - 0s 3ms/step - loss: 0.7105 - accuracy: 0.8938\n",
            "Epoch 8/10\n",
            "87/87 [==============================] - 0s 3ms/step - loss: 0.7074 - accuracy: 0.8913\n",
            "Epoch 9/10\n",
            "87/87 [==============================] - 0s 4ms/step - loss: 0.6682 - accuracy: 0.8975\n",
            "Epoch 10/10\n",
            "87/87 [==============================] - 0s 4ms/step - loss: 0.6557 - accuracy: 0.8888\n",
            "Epoch 1/10\n",
            "87/87 [==============================] - 0s 3ms/step - loss: 0.6920 - accuracy: 0.8975\n",
            "Epoch 2/10\n",
            "87/87 [==============================] - 0s 3ms/step - loss: 0.7047 - accuracy: 0.8920\n",
            "Epoch 3/10\n",
            "87/87 [==============================] - 0s 3ms/step - loss: 0.6669 - accuracy: 0.8946\n",
            "Epoch 4/10\n",
            "87/87 [==============================] - 0s 3ms/step - loss: 0.6903 - accuracy: 0.9036\n",
            "Epoch 5/10\n",
            "87/87 [==============================] - 0s 4ms/step - loss: 0.6740 - accuracy: 0.8917\n",
            "Epoch 6/10\n",
            "87/87 [==============================] - 0s 3ms/step - loss: 0.6918 - accuracy: 0.8928\n",
            "Epoch 7/10\n",
            "87/87 [==============================] - 0s 3ms/step - loss: 0.6774 - accuracy: 0.8924\n",
            "Epoch 8/10\n",
            "87/87 [==============================] - 0s 3ms/step - loss: 0.6688 - accuracy: 0.8989\n",
            "Epoch 9/10\n",
            "87/87 [==============================] - 0s 4ms/step - loss: 0.6694 - accuracy: 0.8967\n",
            "Epoch 10/10\n",
            "87/87 [==============================] - 0s 3ms/step - loss: 0.7143 - accuracy: 0.8971\n",
            "Epoch 1/10\n",
            "87/87 [==============================] - 0s 3ms/step - loss: 0.7714 - accuracy: 0.8931\n",
            "Epoch 2/10\n",
            "87/87 [==============================] - 0s 4ms/step - loss: 0.9216 - accuracy: 0.8909\n",
            "Epoch 3/10\n",
            "87/87 [==============================] - 0s 3ms/step - loss: 0.8200 - accuracy: 0.8797\n",
            "Epoch 4/10\n",
            "87/87 [==============================] - 0s 3ms/step - loss: 0.7309 - accuracy: 0.8902\n",
            "Epoch 5/10\n",
            "87/87 [==============================] - 0s 3ms/step - loss: 0.7047 - accuracy: 0.8920\n",
            "Epoch 6/10\n",
            "87/87 [==============================] - 0s 3ms/step - loss: 0.6555 - accuracy: 0.8996\n",
            "Epoch 7/10\n",
            "87/87 [==============================] - 0s 4ms/step - loss: 0.8366 - accuracy: 0.8902\n",
            "Epoch 8/10\n",
            "87/87 [==============================] - 0s 3ms/step - loss: 2.2841 - accuracy: 0.8511\n",
            "Epoch 9/10\n",
            "87/87 [==============================] - 0s 3ms/step - loss: 3.2125 - accuracy: 0.8105\n",
            "Epoch 10/10\n",
            "87/87 [==============================] - 0s 3ms/step - loss: 1.4645 - accuracy: 0.8522\n",
            "Epoch 1/10\n",
            "87/87 [==============================] - 0s 3ms/step - loss: 0.9704 - accuracy: 0.8710\n",
            "Epoch 2/10\n",
            "87/87 [==============================] - 0s 3ms/step - loss: 0.9549 - accuracy: 0.8877\n",
            "Epoch 3/10\n",
            "87/87 [==============================] - 0s 3ms/step - loss: 0.7441 - accuracy: 0.8844\n",
            "Epoch 4/10\n",
            "87/87 [==============================] - 0s 3ms/step - loss: 0.6956 - accuracy: 0.8899\n",
            "Epoch 5/10\n",
            "87/87 [==============================] - 0s 3ms/step - loss: 0.6894 - accuracy: 0.8938\n",
            "Epoch 6/10\n",
            "87/87 [==============================] - 0s 3ms/step - loss: 0.6664 - accuracy: 0.8920\n",
            "Epoch 7/10\n",
            "87/87 [==============================] - 0s 3ms/step - loss: 0.6703 - accuracy: 0.8924\n",
            "Epoch 8/10\n",
            "87/87 [==============================] - 0s 3ms/step - loss: 0.6375 - accuracy: 0.8964\n",
            "Epoch 9/10\n",
            "87/87 [==============================] - 0s 3ms/step - loss: 0.6496 - accuracy: 0.8938\n",
            "Epoch 10/10\n",
            "87/87 [==============================] - 0s 3ms/step - loss: 0.6464 - accuracy: 0.8949\n",
            "Epoch 1/10\n",
            "87/87 [==============================] - 0s 3ms/step - loss: 0.6420 - accuracy: 0.8949\n",
            "Epoch 2/10\n",
            "87/87 [==============================] - 0s 3ms/step - loss: 0.6352 - accuracy: 0.8986\n",
            "Epoch 3/10\n",
            "87/87 [==============================] - 0s 3ms/step - loss: 0.6296 - accuracy: 0.8935\n",
            "Epoch 4/10\n",
            "87/87 [==============================] - 0s 3ms/step - loss: 0.6289 - accuracy: 0.9033\n",
            "Epoch 5/10\n",
            "87/87 [==============================] - 0s 4ms/step - loss: 0.6198 - accuracy: 0.9004\n",
            "Epoch 6/10\n",
            "87/87 [==============================] - 0s 3ms/step - loss: 0.6363 - accuracy: 0.9007\n",
            "Epoch 7/10\n",
            "87/87 [==============================] - 0s 3ms/step - loss: 0.6294 - accuracy: 0.8971\n",
            "Epoch 8/10\n",
            "87/87 [==============================] - 0s 3ms/step - loss: 0.6439 - accuracy: 0.8931\n",
            "Epoch 9/10\n",
            "87/87 [==============================] - 0s 3ms/step - loss: 0.6303 - accuracy: 0.8993\n",
            "Epoch 10/10\n",
            "87/87 [==============================] - 0s 3ms/step - loss: 0.6121 - accuracy: 0.8982\n",
            "Epoch 1/10\n",
            "87/87 [==============================] - 0s 4ms/step - loss: 0.6312 - accuracy: 0.8989\n",
            "Epoch 2/10\n",
            "87/87 [==============================] - 0s 3ms/step - loss: 0.6369 - accuracy: 0.8946\n",
            "Epoch 3/10\n",
            "87/87 [==============================] - 0s 3ms/step - loss: 0.6267 - accuracy: 0.8982\n",
            "Epoch 4/10\n",
            "87/87 [==============================] - 0s 3ms/step - loss: 0.6481 - accuracy: 0.8960\n",
            "Epoch 5/10\n",
            "87/87 [==============================] - 0s 3ms/step - loss: 0.6271 - accuracy: 0.8942\n",
            "Epoch 6/10\n",
            "87/87 [==============================] - 0s 3ms/step - loss: 0.6246 - accuracy: 0.8967\n",
            "Epoch 7/10\n",
            "87/87 [==============================] - 0s 4ms/step - loss: 0.6133 - accuracy: 0.9018\n",
            "Epoch 8/10\n",
            "87/87 [==============================] - 0s 3ms/step - loss: 0.6270 - accuracy: 0.8986\n",
            "Epoch 9/10\n",
            "87/87 [==============================] - 0s 3ms/step - loss: 0.6397 - accuracy: 0.9087\n",
            "Epoch 10/10\n",
            "87/87 [==============================] - 0s 3ms/step - loss: 0.6312 - accuracy: 0.8996\n",
            "Epoch 1/10\n",
            "87/87 [==============================] - 0s 4ms/step - loss: 0.6282 - accuracy: 0.8967\n",
            "Epoch 2/10\n",
            "87/87 [==============================] - 0s 4ms/step - loss: 0.6104 - accuracy: 0.8953\n",
            "Epoch 3/10\n",
            "87/87 [==============================] - 0s 3ms/step - loss: 0.6281 - accuracy: 0.8957\n",
            "Epoch 4/10\n",
            "87/87 [==============================] - 0s 4ms/step - loss: 0.6267 - accuracy: 0.8975\n",
            "Epoch 5/10\n",
            "87/87 [==============================] - 0s 3ms/step - loss: 0.6078 - accuracy: 0.9011\n",
            "Epoch 6/10\n",
            "87/87 [==============================] - 0s 3ms/step - loss: 0.6038 - accuracy: 0.9007\n",
            "Epoch 7/10\n",
            "87/87 [==============================] - 0s 4ms/step - loss: 0.6250 - accuracy: 0.8975\n",
            "Epoch 8/10\n",
            "87/87 [==============================] - 0s 3ms/step - loss: 0.6057 - accuracy: 0.9000\n",
            "Epoch 9/10\n",
            "87/87 [==============================] - 0s 3ms/step - loss: 0.6570 - accuracy: 0.8964\n",
            "Epoch 10/10\n",
            "87/87 [==============================] - 0s 4ms/step - loss: 0.6609 - accuracy: 0.8975\n",
            "Epoch 1/10\n",
            "87/87 [==============================] - 0s 4ms/step - loss: 0.8234 - accuracy: 0.8949\n",
            "Epoch 2/10\n",
            "87/87 [==============================] - 0s 3ms/step - loss: 0.7631 - accuracy: 0.8888\n",
            "Epoch 3/10\n",
            "87/87 [==============================] - 0s 3ms/step - loss: 0.6615 - accuracy: 0.8884\n",
            "Epoch 4/10\n",
            "87/87 [==============================] - 0s 3ms/step - loss: 0.9134 - accuracy: 0.8884\n",
            "Epoch 5/10\n",
            "87/87 [==============================] - 0s 3ms/step - loss: 0.6997 - accuracy: 0.8924\n",
            "Epoch 6/10\n",
            "87/87 [==============================] - 0s 3ms/step - loss: 0.6432 - accuracy: 0.8982\n",
            "Epoch 7/10\n",
            "87/87 [==============================] - 0s 3ms/step - loss: 0.6073 - accuracy: 0.9014\n",
            "Epoch 8/10\n",
            "87/87 [==============================] - 0s 3ms/step - loss: 0.6175 - accuracy: 0.8996\n",
            "Epoch 9/10\n",
            "87/87 [==============================] - 0s 3ms/step - loss: 0.6220 - accuracy: 0.8964\n",
            "Epoch 10/10\n",
            "87/87 [==============================] - 0s 4ms/step - loss: 0.6030 - accuracy: 0.8971\n"
          ],
          "name": "stdout"
        }
      ]
    },
    {
      "cell_type": "code",
      "metadata": {
        "id": "VvsxIXUXmNnV"
      },
      "source": [
        ""
      ],
      "execution_count": null,
      "outputs": []
    },
    {
      "cell_type": "code",
      "metadata": {
        "colab": {
          "base_uri": "https://localhost:8080/",
          "height": 265
        },
        "id": "sBlTN4AtjFP2",
        "outputId": "65712fdb-878c-4751-f52c-b1b1ec67e49f"
      },
      "source": [
        "import matplotlib.pyplot as plt\n",
        "plt.plot(epoch,precision)\n",
        "plt.plot(epoch,recall)\n",
        "plt.plot(epoch,F1)\n",
        "plt.show()"
      ],
      "execution_count": null,
      "outputs": [
        {
          "output_type": "display_data",
          "data": {
            "image/png": "[encoded data removed]",
            "text/plain": [
              "<Figure size 432x288 with 1 Axes>"
            ]
          },
          "metadata": {
            "tags": [],
            "needs_background": "light"
          }
        }
      ]
    },
    {
      "cell_type": "code",
      "metadata": {
        "colab": {
          "base_uri": "https://localhost:8080/",
          "height": 306
        },
        "id": "WtlIZIo0E0zU",
        "outputId": "32bf8ca5-1723-4f2d-931e-1488e8cdf9e2"
      },
      "source": [
        "model.fit(x = [X1,X2,X3,X4], y = y_train, epochs=5, batch_size=32)"
      ],
      "execution_count": null,
      "outputs": [
        {
          "output_type": "error",
          "ename": "IndexError",
          "evalue": "ignored",
          "traceback": [
            "\u001b[0;31m---------------------------------------------------------------------------\u001b[0m",
            "\u001b[0;31mIndexError\u001b[0m                                Traceback (most recent call last)",
            "\u001b[0;32m<ipython-input-159-1d81721f4ae8>\u001b[0m in \u001b[0;36m<module>\u001b[0;34m()\u001b[0m\n\u001b[0;32m----> 1\u001b[0;31m \u001b[0mmodel\u001b[0m\u001b[0;34m.\u001b[0m\u001b[0mfit\u001b[0m\u001b[0;34m(\u001b[0m\u001b[0mx\u001b[0m \u001b[0;34m=\u001b[0m \u001b[0;34m[\u001b[0m\u001b[0mX1\u001b[0m\u001b[0;34m,\u001b[0m\u001b[0mX2\u001b[0m\u001b[0;34m,\u001b[0m\u001b[0mX3\u001b[0m\u001b[0;34m,\u001b[0m\u001b[0mX4\u001b[0m\u001b[0;34m]\u001b[0m\u001b[0;34m,\u001b[0m \u001b[0my\u001b[0m \u001b[0;34m=\u001b[0m \u001b[0my_train\u001b[0m\u001b[0;34m,\u001b[0m \u001b[0mepochs\u001b[0m\u001b[0;34m=\u001b[0m\u001b[0;36m5\u001b[0m\u001b[0;34m,\u001b[0m \u001b[0mbatch_size\u001b[0m\u001b[0;34m=\u001b[0m\u001b[0;36m32\u001b[0m\u001b[0;34m)\u001b[0m\u001b[0;34m\u001b[0m\u001b[0;34m\u001b[0m\u001b[0m\n\u001b[0m",
            "\u001b[0;32m/usr/local/lib/python3.6/dist-packages/tensorflow/python/keras/engine/training.py\u001b[0m in \u001b[0;36m_method_wrapper\u001b[0;34m(self, *args, **kwargs)\u001b[0m\n\u001b[1;32m    106\u001b[0m   \u001b[0;32mdef\u001b[0m \u001b[0m_method_wrapper\u001b[0m\u001b[0;34m(\u001b[0m\u001b[0mself\u001b[0m\u001b[0;34m,\u001b[0m \u001b[0;34m*\u001b[0m\u001b[0margs\u001b[0m\u001b[0;34m,\u001b[0m \u001b[0;34m**\u001b[0m\u001b[0mkwargs\u001b[0m\u001b[0;34m)\u001b[0m\u001b[0;34m:\u001b[0m\u001b[0;34m\u001b[0m\u001b[0;34m\u001b[0m\u001b[0m\n\u001b[1;32m    107\u001b[0m     \u001b[0;32mif\u001b[0m \u001b[0;32mnot\u001b[0m \u001b[0mself\u001b[0m\u001b[0;34m.\u001b[0m\u001b[0m_in_multi_worker_mode\u001b[0m\u001b[0;34m(\u001b[0m\u001b[0;34m)\u001b[0m\u001b[0;34m:\u001b[0m  \u001b[0;31m# pylint: disable=protected-access\u001b[0m\u001b[0;34m\u001b[0m\u001b[0;34m\u001b[0m\u001b[0m\n\u001b[0;32m--> 108\u001b[0;31m       \u001b[0;32mreturn\u001b[0m \u001b[0mmethod\u001b[0m\u001b[0;34m(\u001b[0m\u001b[0mself\u001b[0m\u001b[0;34m,\u001b[0m \u001b[0;34m*\u001b[0m\u001b[0margs\u001b[0m\u001b[0;34m,\u001b[0m \u001b[0;34m**\u001b[0m\u001b[0mkwargs\u001b[0m\u001b[0;34m)\u001b[0m\u001b[0;34m\u001b[0m\u001b[0;34m\u001b[0m\u001b[0m\n\u001b[0m\u001b[1;32m    109\u001b[0m \u001b[0;34m\u001b[0m\u001b[0m\n\u001b[1;32m    110\u001b[0m     \u001b[0;31m# Running inside `run_distribute_coordinator` already.\u001b[0m\u001b[0;34m\u001b[0m\u001b[0;34m\u001b[0m\u001b[0;34m\u001b[0m\u001b[0m\n",
            "\u001b[0;32m/usr/local/lib/python3.6/dist-packages/tensorflow/python/keras/engine/training.py\u001b[0m in \u001b[0;36mfit\u001b[0;34m(self, x, y, batch_size, epochs, verbose, callbacks, validation_split, validation_data, shuffle, class_weight, sample_weight, initial_epoch, steps_per_epoch, validation_steps, validation_batch_size, validation_freq, max_queue_size, workers, use_multiprocessing)\u001b[0m\n\u001b[1;32m   1061\u001b[0m           \u001b[0muse_multiprocessing\u001b[0m\u001b[0;34m=\u001b[0m\u001b[0muse_multiprocessing\u001b[0m\u001b[0;34m,\u001b[0m\u001b[0;34m\u001b[0m\u001b[0;34m\u001b[0m\u001b[0m\n\u001b[1;32m   1062\u001b[0m           \u001b[0mmodel\u001b[0m\u001b[0;34m=\u001b[0m\u001b[0mself\u001b[0m\u001b[0;34m,\u001b[0m\u001b[0;34m\u001b[0m\u001b[0;34m\u001b[0m\u001b[0m\n\u001b[0;32m-> 1063\u001b[0;31m           steps_per_execution=self._steps_per_execution)\n\u001b[0m\u001b[1;32m   1064\u001b[0m \u001b[0;34m\u001b[0m\u001b[0m\n\u001b[1;32m   1065\u001b[0m       \u001b[0;31m# Container that configures and calls `tf.keras.Callback`s.\u001b[0m\u001b[0;34m\u001b[0m\u001b[0;34m\u001b[0m\u001b[0;34m\u001b[0m\u001b[0m\n",
            "\u001b[0;32m/usr/local/lib/python3.6/dist-packages/tensorflow/python/keras/engine/data_adapter.py\u001b[0m in \u001b[0;36m__init__\u001b[0;34m(self, x, y, sample_weight, batch_size, steps_per_epoch, initial_epoch, epochs, shuffle, class_weight, max_queue_size, workers, use_multiprocessing, model, steps_per_execution)\u001b[0m\n\u001b[1;32m   1102\u001b[0m       \u001b[0mself\u001b[0m\u001b[0;34m.\u001b[0m\u001b[0m_steps_per_execution_value\u001b[0m \u001b[0;34m=\u001b[0m \u001b[0msteps_per_execution\u001b[0m\u001b[0;34m.\u001b[0m\u001b[0mnumpy\u001b[0m\u001b[0;34m(\u001b[0m\u001b[0;34m)\u001b[0m\u001b[0;34m.\u001b[0m\u001b[0mitem\u001b[0m\u001b[0;34m(\u001b[0m\u001b[0;34m)\u001b[0m\u001b[0;34m\u001b[0m\u001b[0;34m\u001b[0m\u001b[0m\n\u001b[1;32m   1103\u001b[0m \u001b[0;34m\u001b[0m\u001b[0m\n\u001b[0;32m-> 1104\u001b[0;31m     \u001b[0madapter_cls\u001b[0m \u001b[0;34m=\u001b[0m \u001b[0mselect_data_adapter\u001b[0m\u001b[0;34m(\u001b[0m\u001b[0mx\u001b[0m\u001b[0;34m,\u001b[0m \u001b[0my\u001b[0m\u001b[0;34m)\u001b[0m\u001b[0;34m\u001b[0m\u001b[0;34m\u001b[0m\u001b[0m\n\u001b[0m\u001b[1;32m   1105\u001b[0m     self._adapter = adapter_cls(\n\u001b[1;32m   1106\u001b[0m         \u001b[0mx\u001b[0m\u001b[0;34m,\u001b[0m\u001b[0;34m\u001b[0m\u001b[0;34m\u001b[0m\u001b[0m\n",
            "\u001b[0;32m/usr/local/lib/python3.6/dist-packages/tensorflow/python/keras/engine/data_adapter.py\u001b[0m in \u001b[0;36mselect_data_adapter\u001b[0;34m(x, y)\u001b[0m\n\u001b[1;32m    963\u001b[0m \u001b[0;32mdef\u001b[0m \u001b[0mselect_data_adapter\u001b[0m\u001b[0;34m(\u001b[0m\u001b[0mx\u001b[0m\u001b[0;34m,\u001b[0m \u001b[0my\u001b[0m\u001b[0;34m)\u001b[0m\u001b[0;34m:\u001b[0m\u001b[0;34m\u001b[0m\u001b[0;34m\u001b[0m\u001b[0m\n\u001b[1;32m    964\u001b[0m   \u001b[0;34m\"\"\"Selects a data adapter than can handle a given x and y.\"\"\"\u001b[0m\u001b[0;34m\u001b[0m\u001b[0;34m\u001b[0m\u001b[0m\n\u001b[0;32m--> 965\u001b[0;31m   \u001b[0madapter_cls\u001b[0m \u001b[0;34m=\u001b[0m \u001b[0;34m[\u001b[0m\u001b[0mcls\u001b[0m \u001b[0;32mfor\u001b[0m \u001b[0mcls\u001b[0m \u001b[0;32min\u001b[0m \u001b[0mALL_ADAPTER_CLS\u001b[0m \u001b[0;32mif\u001b[0m \u001b[0mcls\u001b[0m\u001b[0;34m.\u001b[0m\u001b[0mcan_handle\u001b[0m\u001b[0;34m(\u001b[0m\u001b[0mx\u001b[0m\u001b[0;34m,\u001b[0m \u001b[0my\u001b[0m\u001b[0;34m)\u001b[0m\u001b[0;34m]\u001b[0m\u001b[0;34m\u001b[0m\u001b[0;34m\u001b[0m\u001b[0m\n\u001b[0m\u001b[1;32m    966\u001b[0m   \u001b[0;32mif\u001b[0m \u001b[0;32mnot\u001b[0m \u001b[0madapter_cls\u001b[0m\u001b[0;34m:\u001b[0m\u001b[0;34m\u001b[0m\u001b[0;34m\u001b[0m\u001b[0m\n\u001b[1;32m    967\u001b[0m     \u001b[0;31m# TODO(scottzhu): This should be a less implementation-specific error.\u001b[0m\u001b[0;34m\u001b[0m\u001b[0;34m\u001b[0m\u001b[0;34m\u001b[0m\u001b[0m\n",
            "\u001b[0;32m/usr/local/lib/python3.6/dist-packages/tensorflow/python/keras/engine/data_adapter.py\u001b[0m in \u001b[0;36m<listcomp>\u001b[0;34m(.0)\u001b[0m\n\u001b[1;32m    963\u001b[0m \u001b[0;32mdef\u001b[0m \u001b[0mselect_data_adapter\u001b[0m\u001b[0;34m(\u001b[0m\u001b[0mx\u001b[0m\u001b[0;34m,\u001b[0m \u001b[0my\u001b[0m\u001b[0;34m)\u001b[0m\u001b[0;34m:\u001b[0m\u001b[0;34m\u001b[0m\u001b[0;34m\u001b[0m\u001b[0m\n\u001b[1;32m    964\u001b[0m   \u001b[0;34m\"\"\"Selects a data adapter than can handle a given x and y.\"\"\"\u001b[0m\u001b[0;34m\u001b[0m\u001b[0;34m\u001b[0m\u001b[0m\n\u001b[0;32m--> 965\u001b[0;31m   \u001b[0madapter_cls\u001b[0m \u001b[0;34m=\u001b[0m \u001b[0;34m[\u001b[0m\u001b[0mcls\u001b[0m \u001b[0;32mfor\u001b[0m \u001b[0mcls\u001b[0m \u001b[0;32min\u001b[0m \u001b[0mALL_ADAPTER_CLS\u001b[0m \u001b[0;32mif\u001b[0m \u001b[0mcls\u001b[0m\u001b[0;34m.\u001b[0m\u001b[0mcan_handle\u001b[0m\u001b[0;34m(\u001b[0m\u001b[0mx\u001b[0m\u001b[0;34m,\u001b[0m \u001b[0my\u001b[0m\u001b[0;34m)\u001b[0m\u001b[0;34m]\u001b[0m\u001b[0;34m\u001b[0m\u001b[0;34m\u001b[0m\u001b[0m\n\u001b[0m\u001b[1;32m    966\u001b[0m   \u001b[0;32mif\u001b[0m \u001b[0;32mnot\u001b[0m \u001b[0madapter_cls\u001b[0m\u001b[0;34m:\u001b[0m\u001b[0;34m\u001b[0m\u001b[0;34m\u001b[0m\u001b[0m\n\u001b[1;32m    967\u001b[0m     \u001b[0;31m# TODO(scottzhu): This should be a less implementation-specific error.\u001b[0m\u001b[0;34m\u001b[0m\u001b[0;34m\u001b[0m\u001b[0;34m\u001b[0m\u001b[0m\n",
            "\u001b[0;32m/usr/local/lib/python3.6/dist-packages/tensorflow/python/keras/engine/data_adapter.py\u001b[0m in \u001b[0;36mcan_handle\u001b[0;34m(x, y)\u001b[0m\n\u001b[1;32m    620\u001b[0m     \u001b[0mhandles_y\u001b[0m \u001b[0;34m=\u001b[0m \u001b[0;32mTrue\u001b[0m\u001b[0;34m\u001b[0m\u001b[0;34m\u001b[0m\u001b[0m\n\u001b[1;32m    621\u001b[0m     \u001b[0;32mif\u001b[0m \u001b[0my\u001b[0m \u001b[0;32mis\u001b[0m \u001b[0;32mnot\u001b[0m \u001b[0;32mNone\u001b[0m\u001b[0;34m:\u001b[0m\u001b[0;34m\u001b[0m\u001b[0;34m\u001b[0m\u001b[0m\n\u001b[0;32m--> 622\u001b[0;31m       \u001b[0mhandles_y\u001b[0m \u001b[0;34m=\u001b[0m \u001b[0mListsOfScalarsDataAdapter\u001b[0m\u001b[0;34m.\u001b[0m\u001b[0m_is_list_of_scalars\u001b[0m\u001b[0;34m(\u001b[0m\u001b[0my\u001b[0m\u001b[0;34m)\u001b[0m\u001b[0;34m\u001b[0m\u001b[0;34m\u001b[0m\u001b[0m\n\u001b[0m\u001b[1;32m    623\u001b[0m     \u001b[0;32mreturn\u001b[0m \u001b[0mhandles_x\u001b[0m \u001b[0;32mand\u001b[0m \u001b[0mhandles_y\u001b[0m\u001b[0;34m\u001b[0m\u001b[0;34m\u001b[0m\u001b[0m\n\u001b[1;32m    624\u001b[0m \u001b[0;34m\u001b[0m\u001b[0m\n",
            "\u001b[0;32m/usr/local/lib/python3.6/dist-packages/tensorflow/python/keras/engine/data_adapter.py\u001b[0m in \u001b[0;36m_is_list_of_scalars\u001b[0;34m(inp)\u001b[0m\n\u001b[1;32m    628\u001b[0m       \u001b[0;32mreturn\u001b[0m \u001b[0;32mTrue\u001b[0m\u001b[0;34m\u001b[0m\u001b[0;34m\u001b[0m\u001b[0m\n\u001b[1;32m    629\u001b[0m     \u001b[0;32mif\u001b[0m \u001b[0misinstance\u001b[0m\u001b[0;34m(\u001b[0m\u001b[0minp\u001b[0m\u001b[0;34m,\u001b[0m \u001b[0;34m(\u001b[0m\u001b[0mlist\u001b[0m\u001b[0;34m,\u001b[0m \u001b[0mtuple\u001b[0m\u001b[0;34m)\u001b[0m\u001b[0;34m)\u001b[0m\u001b[0;34m:\u001b[0m\u001b[0;34m\u001b[0m\u001b[0;34m\u001b[0m\u001b[0m\n\u001b[0;32m--> 630\u001b[0;31m       \u001b[0;32mreturn\u001b[0m \u001b[0mListsOfScalarsDataAdapter\u001b[0m\u001b[0;34m.\u001b[0m\u001b[0m_is_list_of_scalars\u001b[0m\u001b[0;34m(\u001b[0m\u001b[0minp\u001b[0m\u001b[0;34m[\u001b[0m\u001b[0;36m0\u001b[0m\u001b[0;34m]\u001b[0m\u001b[0;34m)\u001b[0m\u001b[0;34m\u001b[0m\u001b[0;34m\u001b[0m\u001b[0m\n\u001b[0m\u001b[1;32m    631\u001b[0m     \u001b[0;32mreturn\u001b[0m \u001b[0;32mFalse\u001b[0m\u001b[0;34m\u001b[0m\u001b[0;34m\u001b[0m\u001b[0m\n\u001b[1;32m    632\u001b[0m \u001b[0;34m\u001b[0m\u001b[0m\n",
            "\u001b[0;32m/usr/local/lib/python3.6/dist-packages/tensorflow/python/keras/engine/data_adapter.py\u001b[0m in \u001b[0;36m_is_list_of_scalars\u001b[0;34m(inp)\u001b[0m\n\u001b[1;32m    628\u001b[0m       \u001b[0;32mreturn\u001b[0m \u001b[0;32mTrue\u001b[0m\u001b[0;34m\u001b[0m\u001b[0;34m\u001b[0m\u001b[0m\n\u001b[1;32m    629\u001b[0m     \u001b[0;32mif\u001b[0m \u001b[0misinstance\u001b[0m\u001b[0;34m(\u001b[0m\u001b[0minp\u001b[0m\u001b[0;34m,\u001b[0m \u001b[0;34m(\u001b[0m\u001b[0mlist\u001b[0m\u001b[0;34m,\u001b[0m \u001b[0mtuple\u001b[0m\u001b[0;34m)\u001b[0m\u001b[0;34m)\u001b[0m\u001b[0;34m:\u001b[0m\u001b[0;34m\u001b[0m\u001b[0;34m\u001b[0m\u001b[0m\n\u001b[0;32m--> 630\u001b[0;31m       \u001b[0;32mreturn\u001b[0m \u001b[0mListsOfScalarsDataAdapter\u001b[0m\u001b[0;34m.\u001b[0m\u001b[0m_is_list_of_scalars\u001b[0m\u001b[0;34m(\u001b[0m\u001b[0minp\u001b[0m\u001b[0;34m[\u001b[0m\u001b[0;36m0\u001b[0m\u001b[0;34m]\u001b[0m\u001b[0;34m)\u001b[0m\u001b[0;34m\u001b[0m\u001b[0;34m\u001b[0m\u001b[0m\n\u001b[0m\u001b[1;32m    631\u001b[0m     \u001b[0;32mreturn\u001b[0m \u001b[0;32mFalse\u001b[0m\u001b[0;34m\u001b[0m\u001b[0;34m\u001b[0m\u001b[0m\n\u001b[1;32m    632\u001b[0m \u001b[0;34m\u001b[0m\u001b[0m\n",
            "\u001b[0;31mIndexError\u001b[0m: list index out of range"
          ]
        }
      ]
    },
    {
      "cell_type": "code",
      "metadata": {
        "id": "dWnSS3S7FQ1S"
      },
      "source": [
        "X1_val=[]\n",
        "X2_val=[]\n",
        "X3_val=[]\n",
        "relation_val=[]\n",
        "X4_val=[]"
      ],
      "execution_count": null,
      "outputs": []
    },
    {
      "cell_type": "code",
      "metadata": {
        "id": "0z6qe2sCXKyx"
      },
      "source": [
        "for i in range(len(y_val)):\n",
        "  for j in range(len(y_val[i])):\n",
        "    if(len(y_val[i][j])==5):\n",
        "      X1_val.append(y_val[i][j][0])\n",
        "      X2_val.append(y_val[i][j][1])\n",
        "      X3_val.append(y_val[i][j][2])\n",
        "      relation_val.append(y_val[i][j][3]) \n",
        "      X4_val.append(y_val[i][j][4])  "
      ],
      "execution_count": null,
      "outputs": []
    },
    {
      "cell_type": "code",
      "metadata": {
        "id": "8hxDt7lkXZnP"
      },
      "source": [
        "relation_val2 = np.zeros(len(relation_val))\n",
        "\n",
        "for i in range(len(relation_val)):\n",
        "  relation_val2[i]=tok2idx[relation_val[i]]\n",
        "\n",
        "X1_val = np.array(X1_val)\n",
        "X2_val = np.array(X2_val)\n",
        "X3_val = np.array(X3_val)\n",
        "X4_val = np.array(X4_val)"
      ],
      "execution_count": null,
      "outputs": []
    },
    {
      "cell_type": "code",
      "metadata": {
        "id": "GSfKb_kRtaSk"
      },
      "source": [
        ""
      ],
      "execution_count": null,
      "outputs": []
    },
    {
      "cell_type": "code",
      "metadata": {
        "id": "ZQFO2BLthmZW"
      },
      "source": [
        "def pred():\n",
        "  y_pred=model.predict([X1_val,X2_val,X3_val,X4_val])\n",
        "  y_output=np.argmax(y_pred,axis=-1)\n",
        "  count=0\n",
        "  total=0\n",
        "  p1=0\n",
        "  t1=0\n",
        "  p2=0\n",
        "  t2=0\n",
        "  for i in range(len(y_output)):\n",
        "    if y_output[i]<=2 and relation_val2[i]<=2:\n",
        "      if y_output[i]==relation_val2[i]:\n",
        "        count+=1\n",
        "      total+=1\n",
        "    if y_output[i]<=2:\n",
        "      if y_output[i]==relation_val2[i]:\n",
        "        p1+=1\n",
        "      t1+=1\n",
        "    if relation_val2[i]<=2:\n",
        "      if y_output[i]==relation_val2[i]:\n",
        "        p2+=1\n",
        "      t2+=1\n",
        "  prec = p1/t1\n",
        "  rec = p2/t2\n",
        "  f1 = 2*prec*rec/(prec+rec)\n",
        "  return prec,rec,f1\n"
      ],
      "execution_count": null,
      "outputs": []
    },
    {
      "cell_type": "code",
      "metadata": {
        "id": "c5ier_cpXhP1"
      },
      "source": [
        "y_pred=model.predict([X1_val,X2_val,X3_val,X4_val])"
      ],
      "execution_count": null,
      "outputs": []
    },
    {
      "cell_type": "code",
      "metadata": {
        "id": "PHoKdSWRX9dP"
      },
      "source": [
        "y_output=np.argmax(y_pred,axis=-1)"
      ],
      "execution_count": null,
      "outputs": []
    },
    {
      "cell_type": "code",
      "metadata": {
        "id": "1-dFT0_ZYxl4"
      },
      "source": [
        "count=0\n",
        "total=0\n",
        "p1=0\n",
        "t1=0\n",
        "p2=0\n",
        "t2=0\n",
        "for i in range(len(y_output)):\n",
        "  if y_output[i]<=2 and relation_val2[i]<=2:\n",
        "    if y_output[i]==relation_val2[i]:\n",
        "      count+=1\n",
        "    total+=1\n",
        "  if y_output[i]<=2:\n",
        "    if y_output[i]==relation_val2[i]:\n",
        "      p1+=1\n",
        "    t1+=1\n",
        "  if relation_val2[i]<=2:\n",
        "    if y_output[i]==relation_val2[i]:\n",
        "      p2+=1\n",
        "    t2+=1\n",
        "prec = p1/t1\n",
        "rec = p2/t2"
      ],
      "execution_count": null,
      "outputs": []
    },
    {
      "cell_type": "code",
      "metadata": {
        "colab": {
          "base_uri": "https://localhost:8080/"
        },
        "id": "dtGkbluuY_HM",
        "outputId": "58f3c7b6-b842-4164-d8b8-3adde5e46d46"
      },
      "source": [
        "print(\"Accuracy \" + str(count/total))\n",
        "print(\"Precision \" + str(prec))\n",
        "print(\"Recall \" + str(rec))\n",
        "print(\"F1 Score \" + str(2*prec*rec/(prec+rec)))"
      ],
      "execution_count": null,
      "outputs": [
        {
          "output_type": "stream",
          "text": [
            "Accuracy 0.9041095890410958\n",
            "Precision 0.5344129554655871\n",
            "Recall 0.8098159509202454\n",
            "F1 Score 0.6439024390243904\n"
          ],
          "name": "stdout"
        }
      ]
    },
    {
      "cell_type": "code",
      "metadata": {
        "id": "SW_Te3TTZhlu",
        "colab": {
          "base_uri": "https://localhost:8080/"
        },
        "outputId": "690edaf5-536f-41a8-ac06-c357224f6a54"
      },
      "source": [
        "y_output"
      ],
      "execution_count": null,
      "outputs": [
        {
          "output_type": "execute_result",
          "data": {
            "text/plain": [
              "array([1, 3, 3, 0, 1, 2, 3, 3, 3, 2, 3, 3, 2, 2, 2, 0, 0, 2, 0, 0, 2, 1,\n",
              "       1, 1, 1, 1, 1, 1, 1, 1, 1, 0, 0, 0, 1, 1, 1, 1, 3, 3, 0, 1, 3, 0,\n",
              "       3, 0, 0, 3, 0, 1, 0, 1, 2, 0, 1, 1, 1, 3, 1, 3, 3, 1, 3, 0, 0, 1,\n",
              "       2, 1, 0, 1, 1, 3, 1, 1, 1, 1, 0, 1, 1, 1, 0, 1, 0, 2, 1, 0, 3, 1,\n",
              "       1, 3, 1, 3, 1, 3, 3, 1, 1, 0, 3, 3, 3, 1, 3, 3, 3, 0, 3, 0, 3, 1,\n",
              "       0, 1, 0, 1, 0, 0, 1, 1, 0, 1, 0, 1, 0, 2, 1, 0, 1, 0, 1, 2, 0, 1,\n",
              "       3, 0, 1, 3, 1, 2, 1, 1, 1, 1, 1, 1, 3, 0, 1, 3, 1, 3, 1, 3, 1, 0,\n",
              "       1, 2, 1, 0, 1, 1, 0, 3, 0, 3, 0, 1, 1, 1, 2, 1, 3, 3, 3, 0, 1, 1,\n",
              "       1, 3, 1, 3, 1, 3, 0, 1, 0, 1, 0, 0, 1, 1, 0, 2, 2, 0, 0, 2, 1, 2,\n",
              "       1, 1, 1, 1, 2, 1, 1, 1, 1, 0, 1, 1, 1, 0, 0, 0, 1, 3, 1, 1, 3, 1,\n",
              "       0, 0, 1, 2, 3, 3, 3, 0, 3, 3, 3, 3, 2, 2, 1, 0, 1, 0, 1, 1, 1, 0,\n",
              "       1, 1, 3, 2, 1, 3, 1, 2, 1, 2, 0, 0, 3, 3, 3, 3, 3, 3, 3, 0, 0, 0,\n",
              "       0, 0, 3, 1, 1, 1, 1, 1, 1, 1, 1, 3, 3, 3, 0, 3, 0, 3, 3, 0, 0, 1,\n",
              "       1, 0, 0, 1, 2, 1, 2, 1, 3, 1, 3, 3, 3, 1, 2, 1, 1, 1, 3, 3, 1, 1,\n",
              "       1, 0, 2])"
            ]
          },
          "metadata": {
            "tags": []
          },
          "execution_count": 66
        }
      ]
    },
    {
      "cell_type": "code",
      "metadata": {
        "colab": {
          "base_uri": "https://localhost:8080/"
        },
        "id": "jl9ZQbtoiTbu",
        "outputId": "33af7a76-1d0e-47d5-d677-f459f65ba2e6"
      },
      "source": [
        "from collections import Counter\n",
        "\n",
        "Counter(relation_val)"
      ],
      "execution_count": null,
      "outputs": [
        {
          "output_type": "execute_result",
          "data": {
            "text/plain": [
              "Counter({'HasProperty': 58,\n",
              "         'HasQuantity': 90,\n",
              "         'Qualifies': 15,\n",
              "         'norelation': 148})"
            ]
          },
          "metadata": {
            "tags": []
          },
          "execution_count": 269
        }
      ]
    },
    {
      "cell_type": "code",
      "metadata": {
        "id": "AJ9ctZaVgOow"
      },
      "source": [
        "model.save_weights('/content/drive/My Drive/Model/rel_wt_new.h5')"
      ],
      "execution_count": null,
      "outputs": []
    },
    {
      "cell_type": "code",
      "metadata": {
        "id": "jK6mAl0x4ubU"
      },
      "source": [
        "model.save('/content/drive/My Drive/Model/rel_model.h5')"
      ],
      "execution_count": null,
      "outputs": []
    },
    {
      "cell_type": "code",
      "metadata": {
        "colab": {
          "base_uri": "https://localhost:8080/",
          "height": 340
        },
        "id": "MmllYeHU7EPc",
        "outputId": "49b77060-5a18-4e19-a2ec-ed68cb14973e"
      },
      "source": [
        "from keras.models import load_model\r\n",
        "model.load_weights('/content/drive/My Drive/Model/rel_model.h5')"
      ],
      "execution_count": null,
      "outputs": [
        {
          "output_type": "error",
          "ename": "ValueError",
          "evalue": "ignored",
          "traceback": [
            "\u001b[0;31m---------------------------------------------------------------------------\u001b[0m",
            "\u001b[0;31mValueError\u001b[0m                                Traceback (most recent call last)",
            "\u001b[0;32m<ipython-input-69-8538ab8e2274>\u001b[0m in \u001b[0;36m<module>\u001b[0;34m()\u001b[0m\n\u001b[1;32m      1\u001b[0m \u001b[0;32mfrom\u001b[0m \u001b[0mkeras\u001b[0m\u001b[0;34m.\u001b[0m\u001b[0mmodels\u001b[0m \u001b[0;32mimport\u001b[0m \u001b[0mload_model\u001b[0m\u001b[0;34m\u001b[0m\u001b[0;34m\u001b[0m\u001b[0m\n\u001b[0;32m----> 2\u001b[0;31m \u001b[0mmodel2\u001b[0m \u001b[0;34m=\u001b[0m \u001b[0mload_model\u001b[0m\u001b[0;34m(\u001b[0m\u001b[0;34m'/content/drive/My Drive/Model/rel_model.h5'\u001b[0m\u001b[0;34m)\u001b[0m\u001b[0;34m\u001b[0m\u001b[0;34m\u001b[0m\u001b[0m\n\u001b[0m",
            "\u001b[0;32m/usr/local/lib/python3.6/dist-packages/tensorflow/python/keras/saving/save.py\u001b[0m in \u001b[0;36mload_model\u001b[0;34m(filepath, custom_objects, compile, options)\u001b[0m\n\u001b[1;32m    180\u001b[0m     if (h5py is not None and (\n\u001b[1;32m    181\u001b[0m         isinstance(filepath, h5py.File) or h5py.is_hdf5(filepath))):\n\u001b[0;32m--> 182\u001b[0;31m       \u001b[0;32mreturn\u001b[0m \u001b[0mhdf5_format\u001b[0m\u001b[0;34m.\u001b[0m\u001b[0mload_model_from_hdf5\u001b[0m\u001b[0;34m(\u001b[0m\u001b[0mfilepath\u001b[0m\u001b[0;34m,\u001b[0m \u001b[0mcustom_objects\u001b[0m\u001b[0;34m,\u001b[0m \u001b[0mcompile\u001b[0m\u001b[0;34m)\u001b[0m\u001b[0;34m\u001b[0m\u001b[0;34m\u001b[0m\u001b[0m\n\u001b[0m\u001b[1;32m    183\u001b[0m \u001b[0;34m\u001b[0m\u001b[0m\n\u001b[1;32m    184\u001b[0m     \u001b[0mfilepath\u001b[0m \u001b[0;34m=\u001b[0m \u001b[0mpath_to_string\u001b[0m\u001b[0;34m(\u001b[0m\u001b[0mfilepath\u001b[0m\u001b[0;34m)\u001b[0m\u001b[0;34m\u001b[0m\u001b[0;34m\u001b[0m\u001b[0m\n",
            "\u001b[0;32m/usr/local/lib/python3.6/dist-packages/tensorflow/python/keras/saving/hdf5_format.py\u001b[0m in \u001b[0;36mload_model_from_hdf5\u001b[0;34m(filepath, custom_objects, compile)\u001b[0m\n\u001b[1;32m    192\u001b[0m       \u001b[0;31m# Compile model.\u001b[0m\u001b[0;34m\u001b[0m\u001b[0;34m\u001b[0m\u001b[0;34m\u001b[0m\u001b[0m\n\u001b[1;32m    193\u001b[0m       model.compile(**saving_utils.compile_args_from_training_config(\n\u001b[0;32m--> 194\u001b[0;31m           training_config, custom_objects))\n\u001b[0m\u001b[1;32m    195\u001b[0m       \u001b[0msaving_utils\u001b[0m\u001b[0;34m.\u001b[0m\u001b[0mtry_build_compiled_arguments\u001b[0m\u001b[0;34m(\u001b[0m\u001b[0mmodel\u001b[0m\u001b[0;34m)\u001b[0m\u001b[0;34m\u001b[0m\u001b[0;34m\u001b[0m\u001b[0m\n\u001b[1;32m    196\u001b[0m \u001b[0;34m\u001b[0m\u001b[0m\n",
            "\u001b[0;32m/usr/local/lib/python3.6/dist-packages/tensorflow/python/keras/saving/saving_utils.py\u001b[0m in \u001b[0;36mcompile_args_from_training_config\u001b[0;34m(training_config, custom_objects)\u001b[0m\n\u001b[1;32m    215\u001b[0m     \u001b[0mloss_config\u001b[0m \u001b[0;34m=\u001b[0m \u001b[0mtraining_config\u001b[0m\u001b[0;34m.\u001b[0m\u001b[0mget\u001b[0m\u001b[0;34m(\u001b[0m\u001b[0;34m'loss'\u001b[0m\u001b[0;34m,\u001b[0m \u001b[0;32mNone\u001b[0m\u001b[0;34m)\u001b[0m\u001b[0;34m\u001b[0m\u001b[0;34m\u001b[0m\u001b[0m\n\u001b[1;32m    216\u001b[0m     \u001b[0;32mif\u001b[0m \u001b[0mloss_config\u001b[0m \u001b[0;32mis\u001b[0m \u001b[0;32mnot\u001b[0m \u001b[0;32mNone\u001b[0m\u001b[0;34m:\u001b[0m\u001b[0;34m\u001b[0m\u001b[0;34m\u001b[0m\u001b[0m\n\u001b[0;32m--> 217\u001b[0;31m       \u001b[0mloss\u001b[0m \u001b[0;34m=\u001b[0m \u001b[0m_deserialize_nested_config\u001b[0m\u001b[0;34m(\u001b[0m\u001b[0mlosses\u001b[0m\u001b[0;34m.\u001b[0m\u001b[0mdeserialize\u001b[0m\u001b[0;34m,\u001b[0m \u001b[0mloss_config\u001b[0m\u001b[0;34m)\u001b[0m\u001b[0;34m\u001b[0m\u001b[0;34m\u001b[0m\u001b[0m\n\u001b[0m\u001b[1;32m    218\u001b[0m \u001b[0;34m\u001b[0m\u001b[0m\n\u001b[1;32m    219\u001b[0m     \u001b[0;31m# Recover metrics.\u001b[0m\u001b[0;34m\u001b[0m\u001b[0;34m\u001b[0m\u001b[0;34m\u001b[0m\u001b[0m\n",
            "\u001b[0;32m/usr/local/lib/python3.6/dist-packages/tensorflow/python/keras/saving/saving_utils.py\u001b[0m in \u001b[0;36m_deserialize_nested_config\u001b[0;34m(deserialize_fn, config)\u001b[0m\n\u001b[1;32m    256\u001b[0m     \u001b[0;32mreturn\u001b[0m \u001b[0;32mNone\u001b[0m\u001b[0;34m\u001b[0m\u001b[0;34m\u001b[0m\u001b[0m\n\u001b[1;32m    257\u001b[0m   \u001b[0;32mif\u001b[0m \u001b[0m_is_single_object\u001b[0m\u001b[0;34m(\u001b[0m\u001b[0mconfig\u001b[0m\u001b[0;34m)\u001b[0m\u001b[0;34m:\u001b[0m\u001b[0;34m\u001b[0m\u001b[0;34m\u001b[0m\u001b[0m\n\u001b[0;32m--> 258\u001b[0;31m     \u001b[0;32mreturn\u001b[0m \u001b[0mdeserialize_fn\u001b[0m\u001b[0;34m(\u001b[0m\u001b[0mconfig\u001b[0m\u001b[0;34m)\u001b[0m\u001b[0;34m\u001b[0m\u001b[0;34m\u001b[0m\u001b[0m\n\u001b[0m\u001b[1;32m    259\u001b[0m   \u001b[0;32melif\u001b[0m \u001b[0misinstance\u001b[0m\u001b[0;34m(\u001b[0m\u001b[0mconfig\u001b[0m\u001b[0;34m,\u001b[0m \u001b[0mdict\u001b[0m\u001b[0;34m)\u001b[0m\u001b[0;34m:\u001b[0m\u001b[0;34m\u001b[0m\u001b[0;34m\u001b[0m\u001b[0m\n\u001b[1;32m    260\u001b[0m     return {\n",
            "\u001b[0;32m/usr/local/lib/python3.6/dist-packages/tensorflow/python/keras/losses.py\u001b[0m in \u001b[0;36mdeserialize\u001b[0;34m(name, custom_objects)\u001b[0m\n\u001b[1;32m   1852\u001b[0m       \u001b[0mmodule_objects\u001b[0m\u001b[0;34m=\u001b[0m\u001b[0mglobals\u001b[0m\u001b[0;34m(\u001b[0m\u001b[0;34m)\u001b[0m\u001b[0;34m,\u001b[0m\u001b[0;34m\u001b[0m\u001b[0;34m\u001b[0m\u001b[0m\n\u001b[1;32m   1853\u001b[0m       \u001b[0mcustom_objects\u001b[0m\u001b[0;34m=\u001b[0m\u001b[0mcustom_objects\u001b[0m\u001b[0;34m,\u001b[0m\u001b[0;34m\u001b[0m\u001b[0;34m\u001b[0m\u001b[0m\n\u001b[0;32m-> 1854\u001b[0;31m       printable_module_name='loss function')\n\u001b[0m\u001b[1;32m   1855\u001b[0m \u001b[0;34m\u001b[0m\u001b[0m\n\u001b[1;32m   1856\u001b[0m \u001b[0;34m\u001b[0m\u001b[0m\n",
            "\u001b[0;32m/usr/local/lib/python3.6/dist-packages/tensorflow/python/keras/utils/generic_utils.py\u001b[0m in \u001b[0;36mdeserialize_keras_object\u001b[0;34m(identifier, module_objects, custom_objects, printable_module_name)\u001b[0m\n\u001b[1;32m    376\u001b[0m       \u001b[0;32mif\u001b[0m \u001b[0mobj\u001b[0m \u001b[0;32mis\u001b[0m \u001b[0;32mNone\u001b[0m\u001b[0;34m:\u001b[0m\u001b[0;34m\u001b[0m\u001b[0;34m\u001b[0m\u001b[0m\n\u001b[1;32m    377\u001b[0m         raise ValueError(\n\u001b[0;32m--> 378\u001b[0;31m             'Unknown ' + printable_module_name + ': ' + object_name)\n\u001b[0m\u001b[1;32m    379\u001b[0m     \u001b[0;31m# Classes passed by name are instantiated with no args, functions are\u001b[0m\u001b[0;34m\u001b[0m\u001b[0;34m\u001b[0m\u001b[0;34m\u001b[0m\u001b[0m\n\u001b[1;32m    380\u001b[0m     \u001b[0;31m# returned as-is.\u001b[0m\u001b[0;34m\u001b[0m\u001b[0;34m\u001b[0m\u001b[0;34m\u001b[0m\u001b[0m\n",
            "\u001b[0;31mValueError\u001b[0m: Unknown loss function: loss"
          ]
        }
      ]
    },
    {
      "cell_type": "code",
      "metadata": {
        "id": "YFRfE7ni68h_"
      },
      "source": [
        "model.load('/content/drive/My Drive/Model/rel_model.h5')"
      ],
      "execution_count": null,
      "outputs": []
    }
  ]
}